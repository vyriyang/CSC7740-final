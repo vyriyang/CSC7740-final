{
 "cells": [
  {
   "cell_type": "code",
   "execution_count": 4,
   "id": "9b69a7e3-cee3-41f2-8cf9-85c1abea7ff3",
   "metadata": {},
   "outputs": [
    {
     "name": "stdout",
     "output_type": "stream",
     "text": [
      "Map saved to: updated_map/weather_prediction_map_final.html\n"
     ]
    }
   ],
   "source": [
    "import pandas as pd\n",
    "import folium\n",
    "import numpy as np\n",
    "\n",
    "# 读取用户提供的CSV文件路径\n",
    "file_path = \"dataset/ML_final_dataset/predictions_with_location.csv\"\n",
    "\n",
    "# 读取CSV文件\n",
    "df = pd.read_csv(file_path)\n",
    "\n",
    "# 定义颜色映射，根据不同的Broad_Weather_Condition使用不同的颜色\n",
    "weather_colors = {\n",
    "    'foggy': '#5d3ebc',  # 紫色\n",
    "    'snowy': '#d4a100',  # 黄色\n",
    "    'cold': '#006400',   # 绿色\n",
    "    'rainy': '#0077a8',  # 蓝色\n",
    "    'other': '#ed5564'   # 红色\n",
    "}\n",
    "\n",
    "# 创建以美国为中心的地图\n",
    "latitude, longitude = 37.0902, -95.7129  # Centered on the USA\n",
    "map_clusters = folium.Map(location=[latitude, longitude], zoom_start=4)\n",
    "\n",
    "# 在地图上为每个 cluster 添加 marker 和 tooltip\n",
    "for lat, lng, pred, condition in zip(\n",
    "        df['LocationLat'], df['LocationLng'], df['prediction'], df['predicted_Broad_Weather_Condition']):\n",
    "\n",
    "    # 根据 predicted_Broad_Weather_Condition 选择颜色\n",
    "    color = weather_colors.get(condition, weather_colors['other'])\n",
    "\n",
    "    # 根据 prediction 调整圆圈大小\n",
    "    radius = 5 + pred * 2  # 圆圈大小随预测值变化\n",
    "\n",
    "    # 添加 circle marker，边框和填充颜色相同，透明度均为 0.6\n",
    "    folium.vector_layers.CircleMarker(\n",
    "        [lat, lng],\n",
    "        radius=radius,\n",
    "        tooltip=f\"Condition: {condition}, Prediction: {pred}\",\n",
    "        color=color,  # 边框颜色\n",
    "        opacity=0.3,  # 边框透明度设置为 0.3\n",
    "        fill=True,\n",
    "        fill_color=color,  # 填充颜色\n",
    "        fill_opacity=0.4  # 填充透明度设置为 0.4\n",
    "    ).add_to(map_clusters)\n",
    "\n",
    "# 创建HTML的图例内容\n",
    "legend_html = \"\"\"\n",
    "<div style=\"position: fixed; \n",
    "            bottom: 50px; left: 50px; width: 150px; height: auto; \n",
    "            border:2px solid grey; z-index:9999; font-size:14px;\n",
    "            background-color:white; padding: 10px;\">\n",
    "<b>Weather Condition</b><br>\n",
    " <i style=\"background: #5d3ebc; color: #5d3ebc;\">&nbsp;&nbsp;&nbsp;&nbsp;</i>&nbsp;Foggy<br>\n",
    " <i style=\"background: #d4a100; color: #d4a100;\">&nbsp;&nbsp;&nbsp;&nbsp;</i>&nbsp;Snowy<br>\n",
    " <i style=\"background: #006400; color: #006400;\">&nbsp;&nbsp;&nbsp;&nbsp;</i>&nbsp;Cold<br>\n",
    " <i style=\"background: #0077a8; color: #0077a8;\">&nbsp;&nbsp;&nbsp;&nbsp;</i>&nbsp;Rainy<br>\n",
    " <i style=\"background: #ed5564; color: #ed5564;\">&nbsp;&nbsp;&nbsp;&nbsp;</i>&nbsp;Other\n",
    "</div>\n",
    "\"\"\"\n",
    "\n",
    "# 将图例添加到地图\n",
    "map_clusters.get_root().html.add_child(folium.Element(legend_html))\n",
    "\n",
    "# 保存地图\n",
    "map_clusters_path = \"updated_map/weather_prediction_map_final.html\"\n",
    "map_clusters.save(map_clusters_path)\n",
    "\n",
    "print(f\"Map saved to: {map_clusters_path}\")\n"
   ]
  },
  {
   "cell_type": "code",
   "execution_count": null,
   "id": "cb71807c-8afd-4585-b56b-7228cf185def",
   "metadata": {},
   "outputs": [],
   "source": []
  }
 ],
 "metadata": {
  "kernelspec": {
   "display_name": "Python 3 (ipykernel)",
   "language": "python",
   "name": "python3"
  },
  "language_info": {
   "codemirror_mode": {
    "name": "ipython",
    "version": 3
   },
   "file_extension": ".py",
   "mimetype": "text/x-python",
   "name": "python",
   "nbconvert_exporter": "python",
   "pygments_lexer": "ipython3",
   "version": "3.12.6"
  }
 },
 "nbformat": 4,
 "nbformat_minor": 5
}
